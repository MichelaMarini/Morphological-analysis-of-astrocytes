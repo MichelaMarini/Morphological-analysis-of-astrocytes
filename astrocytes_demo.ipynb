{
  "nbformat": 4,
  "nbformat_minor": 0,
  "metadata": {
    "colab": {
      "provenance": [],
      "authorship_tag": "ABX9TyNYsO6bDS+L2yE7Q4ziX7un",
      "include_colab_link": true
    },
    "kernelspec": {
      "name": "python3",
      "display_name": "Python 3"
    },
    "language_info": {
      "name": "python"
    }
  },
  "cells": [
    {
      "cell_type": "markdown",
      "metadata": {
        "id": "view-in-github",
        "colab_type": "text"
      },
      "source": [
        "<a href=\"https://colab.research.google.com/github/MichelaMarini/Morphological-analysis-of-astrocytes/blob/main/astrocytes_demo.ipynb\" target=\"_parent\"><img src=\"https://colab.research.google.com/assets/colab-badge.svg\" alt=\"Open In Colab\"/></a>"
      ]
    },
    {
      "cell_type": "code",
      "execution_count": 1,
      "metadata": {
        "colab": {
          "base_uri": "https://localhost:8080/"
        },
        "id": "5cJJ-DbJhrjy",
        "outputId": "84f2e05a-4b0c-4f2e-ad92-898f7034b594"
      },
      "outputs": [
        {
          "output_type": "stream",
          "name": "stdout",
          "text": [
            "Cloning into 'Morphological-analysis-of-astrocytes'...\n",
            "remote: Enumerating objects: 132, done.\u001b[K\n",
            "remote: Counting objects: 100% (132/132), done.\u001b[K\n",
            "remote: Compressing objects: 100% (130/130), done.\u001b[K\n",
            "remote: Total 132 (delta 61), reused 0 (delta 0), pack-reused 0\u001b[K\n",
            "Receiving objects: 100% (132/132), 2.42 MiB | 5.83 MiB/s, done.\n",
            "Resolving deltas: 100% (61/61), done.\n",
            "/content/Morphological-analysis-of-astrocytes\n"
          ]
        }
      ],
      "source": [
        "# Clone the GitHub repository\n",
        "!git clone https://github.com/MichelaMarini/Morphological-analysis-of-astrocytes.git\n",
        "# Navigate to the cloned directory\n",
        "%cd Morphological-analysis-of-astrocytes"
      ]
    },
    {
      "cell_type": "markdown",
      "source": [
        "# NAc Location"
      ],
      "metadata": {
        "id": "JVNB1RbOPvkG"
      }
    },
    {
      "cell_type": "markdown",
      "source": [
        "Classification"
      ],
      "metadata": {
        "id": "ROT_MFWnQBYX"
      }
    },
    {
      "cell_type": "code",
      "source": [
        "!python classification_anatomical_location.py"
      ],
      "metadata": {
        "colab": {
          "base_uri": "https://localhost:8080/"
        },
        "id": "v2ILH2Y6PtC2",
        "outputId": "6279dc59-1bbc-4ec5-c46b-c88df38e6a08"
      },
      "execution_count": 2,
      "outputs": [
        {
          "output_type": "stream",
          "name": "stdout",
          "text": [
            "classifier RandomForest\n",
            "classification report for iteration 1\n",
            "              precision    recall  f1-score   support\n",
            "\n",
            "           0       0.88      0.84      0.86       309\n",
            "           1       0.65      0.81      0.72       309\n",
            "           2       0.92      0.76      0.83       309\n",
            "           3       0.93      0.79      0.85       309\n",
            "           4       0.68      0.76      0.72       309\n",
            "\n",
            "    accuracy                           0.79      1545\n",
            "   macro avg       0.81      0.79      0.80      1545\n",
            "weighted avg       0.81      0.79      0.80      1545\n",
            "\n",
            "classifier RandomForest\n",
            "classification report for iteration 2\n",
            "              precision    recall  f1-score   support\n",
            "\n",
            "           0       0.92      0.81      0.86       309\n",
            "           1       0.64      0.84      0.73       309\n",
            "           2       0.94      0.76      0.84       309\n",
            "           3       0.89      0.79      0.83       309\n",
            "           4       0.64      0.72      0.68       309\n",
            "\n",
            "    accuracy                           0.78      1545\n",
            "   macro avg       0.81      0.78      0.79      1545\n",
            "weighted avg       0.81      0.78      0.79      1545\n",
            "\n",
            "classifier RandomForest\n",
            "classification report for iteration 3\n",
            "              precision    recall  f1-score   support\n",
            "\n",
            "           0       0.92      0.79      0.85       309\n",
            "           1       0.66      0.83      0.73       309\n",
            "           2       0.93      0.76      0.84       309\n",
            "           3       0.92      0.79      0.85       309\n",
            "           4       0.62      0.75      0.68       309\n",
            "\n",
            "    accuracy                           0.78      1545\n",
            "   macro avg       0.81      0.78      0.79      1545\n",
            "weighted avg       0.81      0.78      0.79      1545\n",
            "\n",
            "classifier RandomForest\n",
            "classification report for iteration 4\n",
            "              precision    recall  f1-score   support\n",
            "\n",
            "           0       0.90      0.81      0.85       309\n",
            "           1       0.65      0.82      0.72       309\n",
            "           2       0.96      0.73      0.83       309\n",
            "           3       0.89      0.80      0.84       309\n",
            "           4       0.63      0.75      0.69       309\n",
            "\n",
            "    accuracy                           0.78      1545\n",
            "   macro avg       0.81      0.78      0.79      1545\n",
            "weighted avg       0.81      0.78      0.79      1545\n",
            "\n",
            "classifier RandomForest\n",
            "classification report for iteration 5\n",
            "              precision    recall  f1-score   support\n",
            "\n",
            "           0       0.89      0.82      0.85       309\n",
            "           1       0.67      0.79      0.72       309\n",
            "           2       0.94      0.76      0.84       309\n",
            "           3       0.92      0.82      0.87       309\n",
            "           4       0.63      0.75      0.68       309\n",
            "\n",
            "    accuracy                           0.79      1545\n",
            "   macro avg       0.81      0.79      0.79      1545\n",
            "weighted avg       0.81      0.79      0.79      1545\n",
            "\n",
            "classifier RandomForest\n",
            "classification report for iteration 6\n",
            "              precision    recall  f1-score   support\n",
            "\n",
            "           0       0.89      0.78      0.83       309\n",
            "           1       0.63      0.83      0.72       309\n",
            "           2       0.91      0.73      0.81       309\n",
            "           3       0.94      0.78      0.85       309\n",
            "           4       0.63      0.74      0.68       309\n",
            "\n",
            "    accuracy                           0.77      1545\n",
            "   macro avg       0.80      0.77      0.78      1545\n",
            "weighted avg       0.80      0.77      0.78      1545\n",
            "\n",
            "classifier RandomForest\n",
            "classification report for iteration 7\n",
            "              precision    recall  f1-score   support\n",
            "\n",
            "           0       0.89      0.82      0.85       309\n",
            "           1       0.67      0.79      0.72       309\n",
            "           2       0.94      0.76      0.84       309\n",
            "           3       0.92      0.82      0.87       309\n",
            "           4       0.63      0.75      0.68       309\n",
            "\n",
            "    accuracy                           0.79      1545\n",
            "   macro avg       0.81      0.79      0.79      1545\n",
            "weighted avg       0.81      0.79      0.79      1545\n",
            "\n",
            "classifier RandomForest\n",
            "classification report for iteration 8\n",
            "              precision    recall  f1-score   support\n",
            "\n",
            "           0       0.90      0.83      0.86       309\n",
            "           1       0.66      0.83      0.73       309\n",
            "           2       0.91      0.78      0.84       309\n",
            "           3       0.91      0.79      0.85       309\n",
            "           4       0.64      0.70      0.67       309\n",
            "\n",
            "    accuracy                           0.79      1545\n",
            "   macro avg       0.80      0.79      0.79      1545\n",
            "weighted avg       0.80      0.79      0.79      1545\n",
            "\n",
            "classifier RandomForest\n",
            "classification report for iteration 9\n",
            "              precision    recall  f1-score   support\n",
            "\n",
            "           0       0.90      0.80      0.85       309\n",
            "           1       0.63      0.78      0.70       309\n",
            "           2       0.94      0.76      0.84       309\n",
            "           3       0.92      0.77      0.84       309\n",
            "           4       0.61      0.75      0.68       309\n",
            "\n",
            "    accuracy                           0.77      1545\n",
            "   macro avg       0.80      0.77      0.78      1545\n",
            "weighted avg       0.80      0.77      0.78      1545\n",
            "\n",
            "classifier RandomForest\n",
            "classification report for iteration 10\n",
            "              precision    recall  f1-score   support\n",
            "\n",
            "           0       0.88      0.85      0.87       309\n",
            "           1       0.63      0.82      0.71       309\n",
            "           2       0.94      0.74      0.83       309\n",
            "           3       0.93      0.77      0.84       309\n",
            "           4       0.64      0.72      0.68       309\n",
            "\n",
            "    accuracy                           0.78      1545\n",
            "   macro avg       0.81      0.78      0.79      1545\n",
            "weighted avg       0.81      0.78      0.79      1545\n",
            "\n",
            "['Classifier', 'Accuracy on Test Set', 'Std']\n",
            "[['RandomForest', 0.7827831715210356, 0.006066213340510012]]\n"
          ]
        }
      ]
    },
    {
      "cell_type": "markdown",
      "source": [
        "Statistical analysis\n",
        "\n",
        "The xlsx file is saved undert the Files tab"
      ],
      "metadata": {
        "id": "vQip4ooNQF5m"
      }
    },
    {
      "cell_type": "code",
      "source": [
        "!python statistical_analysis_NAc_Location.py"
      ],
      "metadata": {
        "colab": {
          "base_uri": "https://localhost:8080/"
        },
        "id": "iUvz7-ZpQEZw",
        "outputId": "4b03d9d2-f75d-4475-d99e-39d83f26e08f"
      },
      "execution_count": 3,
      "outputs": [
        {
          "output_type": "stream",
          "name": "stdout",
          "text": [
            "ANOVA Results                             f_value    p_value\n",
            "Feature                                       \n",
            "Area_bbox                    26.693  1.008e-21\n",
            "Area_filled                  17.183  6.441e-14\n",
            "equivalent_diameter_area     21.260  2.874e-17\n",
            "feret_diameter_max           32.720  1.212e-26\n",
            "Eccentricity                 23.377  5.254e-19\n",
            "Perimeter                    21.561  1.627e-17\n",
            "Perimeter_to_Surface_Ratio   29.647  3.874e-24\n",
            "Sphericity                   48.004  5.604e-39\n",
            "Spherical Dispropotion       37.298  2.324e-30\n",
            "Solidity                     74.012  1.955e-59\n",
            "AXIS                         35.825  3.627e-29\n",
            "axis                          6.790  1.963e-05\n",
            "Elogantion                   27.669  1.600e-22\n",
            "Fractal Dimension           122.717  6.235e-96\n",
            "Lacunarity                   20.413  1.427e-16\n"
          ]
        }
      ]
    },
    {
      "cell_type": "markdown",
      "source": [
        "Morphological Analysis\n",
        "\n",
        "The  results are saved under the Files tab"
      ],
      "metadata": {
        "id": "hJ90WCL5QL_v"
      }
    },
    {
      "cell_type": "code",
      "source": [
        "!python morphological_analysis_NAc_location.py"
      ],
      "metadata": {
        "colab": {
          "base_uri": "https://localhost:8080/"
        },
        "id": "hWB7l5HOXmkx",
        "outputId": "a241d058-a772-48ca-a6ec-ed21c0be36a4"
      },
      "execution_count": 4,
      "outputs": [
        {
          "output_type": "stream",
          "name": "stdout",
          "text": [
            "Figure(2000x1600)\n",
            "Figure(2000x1000)\n",
            "Figure(800x600)\n",
            "Figure(800x600)\n",
            "Figure(800x600)\n",
            "Figure(800x600)\n",
            "Figure(800x600)\n",
            "Figure(800x600)\n",
            "Figure(800x600)\n",
            "Figure(800x600)\n",
            "Figure(800x600)\n",
            "Figure(800x600)\n",
            "Figure(800x600)\n",
            "Figure(800x600)\n",
            "Figure(800x600)\n",
            "Figure(800x600)\n",
            "Figure(800x600)\n",
            "Figure(2500x1000)\n",
            "Figure(640x480)\n"
          ]
        }
      ]
    },
    {
      "cell_type": "markdown",
      "source": [
        "# Drug use and natural reward"
      ],
      "metadata": {
        "id": "iWtqi7dd0LMQ"
      }
    },
    {
      "cell_type": "markdown",
      "source": [
        "Classification"
      ],
      "metadata": {
        "id": "vk28VAMl0QEg"
      }
    },
    {
      "cell_type": "code",
      "source": [
        "!python classification_drug_use_natural_reward.py"
      ],
      "metadata": {
        "colab": {
          "base_uri": "https://localhost:8080/"
        },
        "id": "17tex8_P0RPn",
        "outputId": "11dbfb20-58ce-401c-d1d6-509f4b50f9ec"
      },
      "execution_count": 5,
      "outputs": [
        {
          "output_type": "stream",
          "name": "stdout",
          "text": [
            "Processing: features_ac.csv\n",
            "Classifier, Accuracy on Test Set, Std\n",
            "['RandomForest', 0.679136690647482, 0.012440011845892513]\n",
            "Processing: features_dm.csv\n",
            "Classifier, Accuracy on Test Set, Std\n",
            "['RandomForest', 0.5723840345199569, 0.013187233475673035]\n",
            "Processing: features_lat.csv\n",
            "Classifier, Accuracy on Test Set, Std\n",
            "['RandomForest', 0.5385113268608415, 0.02418322549161088]\n",
            "Processing: features_vm.csv\n",
            "Classifier, Accuracy on Test Set, Std\n",
            "['RandomForest', 0.5452282157676349, 0.024137825016180888]\n",
            "Processing: features_pc.csv\n",
            "Classifier, Accuracy on Test Set, Std\n",
            "['RandomForest', 0.6234295415959255, 0.012745890919608455]\n",
            "Processing: features_ac_sucrose.csv\n",
            "Classifier, Accuracy on Test Set, Std\n",
            "['RandomForest', 0.5083333333333333, 0.03354101966249685]\n",
            "Processing: features_dm_sucrose.csv\n",
            "Classifier, Accuracy on Test Set, Std\n",
            "['RandomForest', 0.58359375, 0.02796176588777075]\n",
            "Processing: features_lat_sucrose.csv\n",
            "Classifier, Accuracy on Test Set, Std\n",
            "['RandomForest', 0.6209090909090909, 0.026983312872101525]\n",
            "Processing: features_vm_sucrose.csv\n",
            "Classifier, Accuracy on Test Set, Std\n",
            "['RandomForest', 0.6, 0.05258815806826582]\n",
            "Processing: features_pc_sucrose.csv\n",
            "Classifier, Accuracy on Test Set, Std\n",
            "['RandomForest', 0.511, 0.04459820624195552]\n"
          ]
        }
      ]
    },
    {
      "cell_type": "markdown",
      "source": [
        "Statistical analysis\n",
        "\n",
        "The xlsx files are saved under the Files tab"
      ],
      "metadata": {
        "id": "1YDo7ghe0Wl3"
      }
    },
    {
      "cell_type": "code",
      "source": [
        "!python statistical_analysis_drug_use_natural_reward.py"
      ],
      "metadata": {
        "colab": {
          "base_uri": "https://localhost:8080/"
        },
        "id": "3OMASchB0ZQJ",
        "outputId": "94406101-c593-448d-d7c1-89d0cd5d39c5"
      },
      "execution_count": 8,
      "outputs": [
        {
          "output_type": "stream",
          "name": "stdout",
          "text": [
            "Processing: features_ac.csv\n",
            "ANOVA Results                            f_value    p_value\n",
            "Feature                                      \n",
            "Area_bbox                    5.432  4.575e-03\n",
            "Area_filled                  2.182  1.137e-01\n",
            "equivalent_diameter_area     3.734  2.441e-02\n",
            "feret_diameter_max           5.491  4.316e-03\n",
            "Eccentricity                 0.908  4.040e-01\n",
            "Perimeter                    3.665  2.614e-02\n",
            "Perimeter_to_Surface_Ratio  20.140  3.246e-09\n",
            "Sphericity                   9.280  1.060e-04\n",
            "Spherical Dispropotion       6.782  1.215e-03\n",
            "Solidity                    12.933  3.099e-06\n",
            "AXIS                         4.277  1.427e-02\n",
            "axis                         5.054  6.634e-03\n",
            "Elogantion                   0.991  3.718e-01\n",
            "Fractal Dimension            3.067  4.725e-02\n",
            "Lacunarity                   0.092  9.119e-01\n",
            "Processing: features_dm.csv\n",
            "ANOVA Results                            f_value    p_value\n",
            "Feature                                      \n",
            "Area_bbox                   25.538  1.042e-11\n",
            "Area_filled                 42.638  6.080e-19\n",
            "equivalent_diameter_area    59.987  3.459e-26\n",
            "feret_diameter_max          26.060  6.250e-12\n",
            "Eccentricity                 3.612  2.713e-02\n",
            "Perimeter                   50.508  3.058e-22\n",
            "Perimeter_to_Surface_Ratio  13.306  1.783e-06\n",
            "Sphericity                  60.996  1.320e-26\n",
            "Spherical Dispropotion      51.566  1.106e-22\n",
            "Solidity                     1.990  1.370e-01\n",
            "AXIS                        20.958  9.363e-10\n",
            "axis                        27.744  1.201e-12\n",
            "Elogantion                   2.789  6.169e-02\n",
            "Fractal Dimension           23.716  6.229e-11\n",
            "Lacunarity                  11.047  1.671e-05\n",
            "Processing: features_lat.csv\n",
            "ANOVA Results                            f_value    p_value\n",
            "Feature                                      \n",
            "Area_bbox                    5.572  3.940e-03\n",
            "Area_filled                  3.654  2.629e-02\n",
            "equivalent_diameter_area     5.859  2.969e-03\n",
            "feret_diameter_max           9.299  1.009e-04\n",
            "Eccentricity                 0.361  6.968e-01\n",
            "Perimeter                    4.688  9.436e-03\n",
            "Perimeter_to_Surface_Ratio   6.823  1.148e-03\n",
            "Sphericity                   5.731  3.366e-03\n",
            "Spherical Dispropotion       4.622  1.008e-02\n",
            "Solidity                     3.194  4.148e-02\n",
            "AXIS                         7.574  5.483e-04\n",
            "axis                         2.761  6.381e-02\n",
            "Elogantion                   0.601  5.483e-01\n",
            "Fractal Dimension            0.958  3.840e-01\n",
            "Lacunarity                   3.795  2.286e-02\n",
            "Processing: features_vm.csv\n",
            "ANOVA Results                            f_value    p_value\n",
            "Feature                                      \n",
            "Area_bbox                    3.121  4.473e-02\n",
            "Area_filled                  3.623  2.722e-02\n",
            "equivalent_diameter_area     4.751  8.936e-03\n",
            "feret_diameter_max           4.283  1.418e-02\n",
            "Eccentricity                 0.543  5.813e-01\n",
            "Perimeter                    6.008  2.591e-03\n",
            "Perimeter_to_Surface_Ratio   0.665  5.148e-01\n",
            "Sphericity                   8.276  2.811e-04\n",
            "Spherical Dispropotion       8.040  3.540e-04\n",
            "Solidity                     5.831  3.083e-03\n",
            "AXIS                         3.200  4.138e-02\n",
            "axis                         3.681  2.571e-02\n",
            "Elogantion                   1.262  2.837e-01\n",
            "Fractal Dimension            3.143  4.376e-02\n",
            "Lacunarity                   0.279  7.565e-01\n",
            "Processing: features_pc.csv\n",
            "ANOVA Results                            f_value    p_value\n",
            "Feature                                      \n",
            "Area_bbox                    2.981  5.102e-02\n",
            "Area_filled                  3.474  3.125e-02\n",
            "equivalent_diameter_area     3.866  2.114e-02\n",
            "feret_diameter_max           0.389  6.777e-01\n",
            "Eccentricity                 1.350  2.595e-01\n",
            "Perimeter                    3.977  1.892e-02\n",
            "Perimeter_to_Surface_Ratio  10.371  3.355e-05\n",
            "Sphericity                   6.815  1.131e-03\n",
            "Spherical Dispropotion       5.748  3.258e-03\n",
            "Solidity                    19.305  5.232e-09\n",
            "AXIS                         0.498  6.079e-01\n",
            "axis                         5.254  5.321e-03\n",
            "Elogantion                   6.154  2.178e-03\n",
            "Fractal Dimension            8.089  3.201e-04\n",
            "Lacunarity                   1.784  1.683e-01\n",
            "Processing: features_ac_sucrose.csv\n",
            "ANOVA Results                            f_value    p_value\n",
            "Feature                                      \n",
            "Area_bbox                    1.364  2.588e-01\n",
            "Area_filled                  0.893  4.116e-01\n",
            "equivalent_diameter_area     1.324  2.691e-01\n",
            "feret_diameter_max           2.570  7.982e-02\n",
            "Eccentricity                 0.847  4.307e-01\n",
            "Perimeter                    2.477  8.730e-02\n",
            "Perimeter_to_Surface_Ratio   4.375  1.419e-02\n",
            "Sphericity                   4.364  1.434e-02\n",
            "Spherical Dispropotion       4.653  1.091e-02\n",
            "Solidity                     2.527  8.322e-02\n",
            "AXIS                         1.051  3.521e-01\n",
            "axis                         2.698  7.052e-02\n",
            "Elogantion                   0.814  4.451e-01\n",
            "Fractal Dimension            1.475  2.320e-01\n",
            "Lacunarity                   6.262  2.428e-03\n",
            "Processing: features_dm_sucrose.csv\n",
            "ANOVA Results                            f_value    p_value\n",
            "Feature                                      \n",
            "Area_bbox                   30.345  7.481e-13\n",
            "Area_filled                 26.973  1.341e-11\n",
            "equivalent_diameter_area    27.879  6.145e-12\n",
            "feret_diameter_max          26.934  1.386e-11\n",
            "Eccentricity                 4.397  1.303e-02\n",
            "Perimeter                   33.177  6.880e-14\n",
            "Perimeter_to_Surface_Ratio  18.629  2.103e-08\n",
            "Sphericity                  31.905  2.001e-13\n",
            "Spherical Dispropotion      35.047  1.450e-14\n",
            "Solidity                     7.453  6.793e-04\n",
            "AXIS                        21.536  1.563e-09\n",
            "axis                        16.807  1.095e-07\n",
            "Elogantion                   4.394  1.306e-02\n",
            "Fractal Dimension            5.862  3.141e-03\n",
            "Lacunarity                   1.591  2.051e-01\n",
            "Processing: features_lat_sucrose.csv\n",
            "ANOVA Results                            f_value    p_value\n",
            "Feature                                      \n",
            "Area_bbox                    4.239  1.539e-02\n",
            "Area_filled                  2.276  1.047e-01\n",
            "equivalent_diameter_area     2.017  1.351e-01\n",
            "feret_diameter_max           4.281  1.477e-02\n",
            "Eccentricity                 5.661  3.900e-03\n",
            "Perimeter                    3.420  3.413e-02\n",
            "Perimeter_to_Surface_Ratio  13.552  2.441e-06\n",
            "Sphericity                   5.413  4.947e-03\n",
            "Spherical Dispropotion       5.714  3.705e-03\n",
            "Solidity                     7.303  8.126e-04\n",
            "AXIS                         5.205  6.048e-03\n",
            "axis                         9.063  1.544e-04\n",
            "Elogantion                   7.482  6.861e-04\n",
            "Fractal Dimension           13.439  2.706e-06\n",
            "Lacunarity                   5.539  4.382e-03\n",
            "Processing: features_vm_sucrose.csv\n",
            "ANOVA Results                            f_value    p_value\n",
            "Feature                                      \n",
            "Area_bbox                    5.414  5.517e-03\n",
            "Area_filled                  6.355  2.327e-03\n",
            "equivalent_diameter_area     6.419  2.194e-03\n",
            "feret_diameter_max           3.636  2.909e-02\n",
            "Eccentricity                 1.338  2.661e-01\n",
            "Perimeter                    8.069  4.973e-04\n",
            "Perimeter_to_Surface_Ratio   7.231  1.053e-03\n",
            "Sphericity                   7.342  9.530e-04\n",
            "Spherical Dispropotion       9.608  1.283e-04\n",
            "Solidity                     4.189  1.725e-02\n",
            "AXIS                         2.154  1.202e-01\n",
            "axis                         5.254  6.395e-03\n",
            "Elogantion                   2.116  1.246e-01\n",
            "Fractal Dimension            4.623  1.149e-02\n",
            "Lacunarity                   5.289  6.190e-03\n",
            "Processing: features_pc_sucrose.csv\n",
            "ANOVA Results                            f_value    p_value\n",
            "Feature                                      \n",
            "Area_bbox                    3.076  4.775e-02\n",
            "Area_filled                  5.063  6.925e-03\n",
            "equivalent_diameter_area     5.458  4.736e-03\n",
            "feret_diameter_max           1.259  2.856e-01\n",
            "Eccentricity                 2.676  7.064e-02\n",
            "Perimeter                   10.657  3.481e-05\n",
            "Perimeter_to_Surface_Ratio  23.432  3.988e-10\n",
            "Sphericity                  16.131  2.369e-07\n",
            "Spherical Dispropotion      16.519  1.675e-07\n",
            "Solidity                     7.215  8.823e-04\n",
            "AXIS                         1.345  2.623e-01\n",
            "axis                         7.203  8.927e-04\n",
            "Elogantion                   3.283  3.898e-02\n",
            "Fractal Dimension            6.178  2.373e-03\n",
            "Lacunarity                   9.314  1.218e-04\n"
          ]
        }
      ]
    },
    {
      "cell_type": "markdown",
      "source": [
        "Morphological analysis\n",
        "\n",
        "The results are saved under the Files tab"
      ],
      "metadata": {
        "id": "PiN_l_Jn0kBZ"
      }
    },
    {
      "cell_type": "code",
      "source": [
        "!python morphological_analysis_drug_use_natural_reward.py"
      ],
      "metadata": {
        "colab": {
          "base_uri": "https://localhost:8080/"
        },
        "id": "oXTXbDYK0zbb",
        "outputId": "6123673e-964a-4a03-b41b-f0357a36b965"
      },
      "execution_count": 9,
      "outputs": [
        {
          "output_type": "stream",
          "name": "stdout",
          "text": [
            "Processing: features_ac.csv\n",
            "Figure(2000x1000)\n",
            "Figure(640x480)\n",
            "Processing: features_dm.csv\n",
            "Figure(2000x1000)\n",
            "Figure(640x480)\n",
            "Processing: features_lat.csv\n",
            "Figure(2000x1000)\n",
            "Figure(640x480)\n",
            "Processing: features_vm.csv\n",
            "Figure(2000x1000)\n",
            "Figure(640x480)\n",
            "Processing: features_pc.csv\n",
            "Figure(2000x1000)\n",
            "Figure(640x480)\n",
            "Processing: features_ac_sucrose.csv\n",
            "Figure(2000x1000)\n",
            "Figure(640x480)\n",
            "Processing: features_dm_sucrose.csv\n",
            "Figure(2000x1000)\n",
            "Figure(640x480)\n",
            "Processing: features_lat_sucrose.csv\n",
            "Figure(2000x1000)\n",
            "Figure(640x480)\n",
            "Processing: features_vm_sucrose.csv\n",
            "Figure(2000x1000)\n",
            "Figure(640x480)\n",
            "Processing: features_pc_sucrose.csv\n",
            "Figure(2000x1000)\n",
            "Figure(640x480)\n"
          ]
        }
      ]
    }
  ]
}